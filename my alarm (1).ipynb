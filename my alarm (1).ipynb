{
 "cells": [
  {
   "cell_type": "code",
   "execution_count": 1,
   "id": "c3595144",
   "metadata": {},
   "outputs": [],
   "source": [
    "import datetime\n",
    "# from playsound import playsound"
   ]
  },
  {
   "cell_type": "code",
   "execution_count": 3,
   "id": "4222afef",
   "metadata": {},
   "outputs": [
    {
     "name": "stdout",
     "output_type": "stream",
     "text": [
      "working\n"
     ]
    }
   ],
   "source": [
    "\n",
    "a_hour = int(input(\"Enter prefred hour: \"))\n",
    "a_min = int(input(\"Enter prefred min: \"))\n",
    "a_or_p = (input(\"am/pm: \"))\n",
    "\n",
    "print(\"working\")\n",
    "\n",
    "# if a_or_p.capitalize() == 'PM':\n",
    "#     a_hour += 12\n",
    "# while True:\n",
    "#     if datetime.datetime.now().hour  and datetime.datetime.now().minute:\n",
    "#         print(\"its time to wake up\")\n",
    "#         # playsound(\"?\")"
   ]
  },
  {
   "cell_type": "code",
   "execution_count": 15,
   "id": "174c38aa",
   "metadata": {},
   "outputs": [],
   "source": [
    "def set_daily_alarm(hour: int, minute: int, format='12', daytime='am'):\n",
    "    \"\"\"format: 12 | 24 \n",
    "       daytime: am | pm\n",
    "    \"\"\"\n",
    "\n",
    "    if format == '12':\n",
    "        daytime = daytime\n",
    "        print(daytime)\n",
    "        if daytime.lower() != 'am' and daytime.lower() != 'pm':\n",
    "            raise ValueError('daytime arguement must either be am or pm')\n",
    "\n",
    "        if hour > 12:\n",
    "            raise ValueError('Incorrect value for 12 hour clock')\n",
    "        \n",
    "        if daytime.lower() == 'pm':\n",
    "            hour += 12\n",
    "\n",
    "\n",
    "    if format == '24':\n",
    "        if hour > 24:\n",
    "            raise ValueError('Incorrect value for 24 hour clock')\n",
    "\n",
    "    if minute > 59:\n",
    "        raise ValueError('Minute must be less than 60')\n",
    "\n",
    "    while True:\n",
    "        if datetime.datetime.now().hour == hour and datetime.datetime.now().minute:\n",
    "            print('Wake up')\n",
    "\n",
    "\n"
   ]
  },
  {
   "cell_type": "code",
   "execution_count": 14,
   "id": "bff2ae0d",
   "metadata": {},
   "outputs": [
    {
     "name": "stdout",
     "output_type": "stream",
     "text": [
      "am\n"
     ]
    },
    {
     "ename": "ValueError",
     "evalue": "daytime arguement must either be am or pm",
     "output_type": "error",
     "traceback": [
      "\u001b[1;31m---------------------------------------------------------------------------\u001b[0m",
      "\u001b[1;31mValueError\u001b[0m                                Traceback (most recent call last)",
      "\u001b[1;32m~\\AppData\\Local\\Temp\\ipykernel_1640\\2987593545.py\u001b[0m in \u001b[0;36m<module>\u001b[1;34m\u001b[0m\n\u001b[1;32m----> 1\u001b[1;33m \u001b[0mset_daily_alarm\u001b[0m\u001b[1;33m(\u001b[0m\u001b[1;36m9\u001b[0m\u001b[1;33m,\u001b[0m \u001b[1;36m21\u001b[0m\u001b[1;33m)\u001b[0m\u001b[1;33m\u001b[0m\u001b[1;33m\u001b[0m\u001b[0m\n\u001b[0m",
      "\u001b[1;32m~\\AppData\\Local\\Temp\\ipykernel_1640\\3994852950.py\u001b[0m in \u001b[0;36mset_daily_alarm\u001b[1;34m(hour, minute, format, daytime)\u001b[0m\n\u001b[0;32m      8\u001b[0m         \u001b[0mprint\u001b[0m\u001b[1;33m(\u001b[0m\u001b[0mdaytime\u001b[0m\u001b[1;33m)\u001b[0m\u001b[1;33m\u001b[0m\u001b[1;33m\u001b[0m\u001b[0m\n\u001b[0;32m      9\u001b[0m         \u001b[1;32mif\u001b[0m \u001b[0mdaytime\u001b[0m\u001b[1;33m.\u001b[0m\u001b[0mlower\u001b[0m\u001b[1;33m(\u001b[0m\u001b[1;33m)\u001b[0m \u001b[1;33m!=\u001b[0m \u001b[1;34m'am'\u001b[0m \u001b[1;32mor\u001b[0m \u001b[0mdaytime\u001b[0m\u001b[1;33m.\u001b[0m\u001b[0mlower\u001b[0m\u001b[1;33m(\u001b[0m\u001b[1;33m)\u001b[0m \u001b[1;33m!=\u001b[0m \u001b[1;34m'pm'\u001b[0m\u001b[1;33m:\u001b[0m\u001b[1;33m\u001b[0m\u001b[1;33m\u001b[0m\u001b[0m\n\u001b[1;32m---> 10\u001b[1;33m             \u001b[1;32mraise\u001b[0m \u001b[0mValueError\u001b[0m\u001b[1;33m(\u001b[0m\u001b[1;34m'daytime arguement must either be am or pm'\u001b[0m\u001b[1;33m)\u001b[0m\u001b[1;33m\u001b[0m\u001b[1;33m\u001b[0m\u001b[0m\n\u001b[0m\u001b[0;32m     11\u001b[0m \u001b[1;33m\u001b[0m\u001b[0m\n\u001b[0;32m     12\u001b[0m         \u001b[1;32mif\u001b[0m \u001b[0mhour\u001b[0m \u001b[1;33m>\u001b[0m \u001b[1;36m12\u001b[0m\u001b[1;33m:\u001b[0m\u001b[1;33m\u001b[0m\u001b[1;33m\u001b[0m\u001b[0m\n",
      "\u001b[1;31mValueError\u001b[0m: daytime arguement must either be am or pm"
     ]
    }
   ],
   "source": [
    "set_daily_alarm(9, 24)"
   ]
  },
  {
   "cell_type": "code",
   "execution_count": null,
   "id": "1e6923e6",
   "metadata": {},
   "outputs": [],
   "source": []
  }
 ],
 "metadata": {
  "interpreter": {
   "hash": "f156cad4ce6bec05f4ff81b32fbaf6bbe8e364a5bdb7ba4b6b2439a1c1254a9a"
  },
  "kernelspec": {
   "display_name": "Python 3.7.7 64-bit (system)",
   "language": "python",
   "name": "python3"
  },
  "language_info": {
   "codemirror_mode": {
    "name": "ipython",
    "version": 3
   },
   "file_extension": ".py",
   "mimetype": "text/x-python",
   "name": "python",
   "nbconvert_exporter": "python",
   "pygments_lexer": "ipython3",
   "version": "3.7.7"
  }
 },
 "nbformat": 4,
 "nbformat_minor": 5
}
