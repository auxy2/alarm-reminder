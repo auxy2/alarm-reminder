
    def set_daily_alarm(hour: int, minute: int, format='12', daytime='am'):
       \"\"\"format: 12 | 24 
          daytime: am | pm
        \"\"\"\
    
       if format == '12':
           daytime = daytime
           print(daytime)
           if daytime.lower() != 'am' and daytime.lower() != 'pm':
                raise ValueError('daytime arguement must either be am or pm')
    
            if hour > 12:
                raise ValueError('Incorrect value for 12 hour clock')
            
            if daytime.lower() == 'pm':
                hour += 12
    
        if format == '24':
            if hour > 24:
                raise ValueError('Incorrect value for 24 hour clock')
    
        if minute > 59:\n",
            raise ValueError('Minute must be less than 60')
    
        while True:
            if datetime.datetime.now().hour == hour and datetime.datetime.now().minute == minute
                print('Wake up')
